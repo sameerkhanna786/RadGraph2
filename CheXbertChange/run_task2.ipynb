{
 "cells": [
  {
   "cell_type": "code",
   "execution_count": 2,
   "id": "795e98b7-e29a-42a0-9579-b15f5e3ba48f",
   "metadata": {},
   "outputs": [],
   "source": [
    "import os\n",
    "import sys\n",
    "module_path = os.path.abspath(os.path.join('..'))\n",
    "if module_path not in sys.path:\n",
    "    sys.path.append(module_path)"
   ]
  },
  {
   "cell_type": "code",
   "execution_count": 3,
   "id": "d16f62cb-06ed-4c8f-9592-29a3e2a8950e",
   "metadata": {},
   "outputs": [],
   "source": [
    "import pandas as pd"
   ]
  },
  {
   "cell_type": "code",
   "execution_count": 4,
   "id": "f19f6916-dfac-4dcd-a708-16c7751cc081",
   "metadata": {},
   "outputs": [],
   "source": [
    "import tqdm as notebook_tqdm\n",
    "import matplotlib.pyplot as plt"
   ]
  },
  {
   "cell_type": "code",
   "execution_count": 5,
   "id": "3d4370af-5847-451e-b29c-63e748d5e773",
   "metadata": {},
   "outputs": [],
   "source": [
    "sys.path.append(\"CheXbert_task2/src\")"
   ]
  },
  {
   "cell_type": "code",
   "execution_count": null,
   "id": "74d6d21f-dbc2-4f5d-9c4d-37d633bb918a",
   "metadata": {},
   "outputs": [],
   "source": [
    "import CheXbert_task2\n",
    "import CheXbert_task2.src\n",
    "import CheXbert_task2.src.models.bert_labeler\n",
    "import CheXbert_task2.src.models as models\n",
    "from CheXbert_task2.src import *\n",
    "from CheXbert_task2.src.utils import test"
   ]
  },
  {
   "cell_type": "code",
   "execution_count": 7,
   "id": "1a4e2e08-5621-448f-8197-c8661edf601f",
   "metadata": {},
   "outputs": [],
   "source": [
    "from CheXbert_task2.src.run_bert import *\n",
    "from CheXbert_task2.src.run_bert import model_from_ckpt"
   ]
  },
  {
   "cell_type": "markdown",
   "id": "e5f4be92-a9d7-494d-b7f8-da1acca15f23",
   "metadata": {},
   "source": [
    "### Variables"
   ]
  },
  {
   "cell_type": "code",
   "execution_count": 9,
   "id": "abc6f7f2-276c-4b86-9d25-c7a223d8734e",
   "metadata": {},
   "outputs": [],
   "source": [
    "train_csv_path = #path to train set\n",
    "dev_csv_path = #path to dev set\n",
    "train_imp_path = #path to train impressions\n",
    "dev_imp_path = #path to dev impressions\n",
    "out_path = #path to where you want the model to be saved\n",
    "checkpoint_path = #specify checkpoint path if desired"
   ]
  },
  {
   "cell_type": "code",
   "execution_count": 107,
   "id": "fe563973-b988-405a-a317-99c5ce2ff77a",
   "metadata": {},
   "outputs": [],
   "source": [
    "#run if you don't want pre trained weights\n",
    "checkpoint_path = None"
   ]
  },
  {
   "cell_type": "code",
   "execution_count": null,
   "id": "e544ba21-a611-4d65-ae8c-9864f6f61a7b",
   "metadata": {},
   "outputs": [],
   "source": [
    "model, optimizer, device = model_from_ckpt(bert_labeler(p=0), checkpoint_path)\n",
    "optimizer = None"
   ]
  },
  {
   "cell_type": "code",
   "execution_count": 11,
   "id": "bf3a4b10-ddf9-40cf-9016-975f94e85aca",
   "metadata": {},
   "outputs": [],
   "source": [
    "batch_size = 10"
   ]
  },
  {
   "cell_type": "code",
   "execution_count": 85,
   "id": "68d3446a-f06c-4d8e-b038-a9ac5d8fc1f9",
   "metadata": {
    "tags": []
   },
   "outputs": [],
   "source": [
    "#run to perform reweighting\n",
    "train_set = pd.read_csv(train_csv_path)\n",
    "y_train = np.zeros(train_set.shape[0])\n",
    "for i in range(train_set.shape[0]):\n",
    "    row = train_set.iloc[i]\n",
    "    for idx,cond in enumerate(CONDITIONS):\n",
    "        if row[cond]==1:\n",
    "            y_train[i]=int(idx)\n",
    "y_train= y_train.astype(int)\n",
    "weight_train = []\n",
    "for cond in CONDITIONS:\n",
    "    mean = train_set[cond].mean()\n",
    "    weight_train.append(1/mean)\n",
    "samples_weight = np.array([weight_train[t] for t in y_train])\n",
    "samples_weight = torch.from_numpy(samples_weight)"
   ]
  },
  {
   "cell_type": "code",
   "execution_count": 12,
   "id": "7d839c4c-5af5-408b-aba3-e2758097b68f",
   "metadata": {},
   "outputs": [],
   "source": [
    "#dataloaders\n",
    "dataloaders = load_data(train_csv_path, train_imp_path,\n",
    "                        dev_csv_path, dev_imp_path, batch_size = batch_size)"
   ]
  },
  {
   "cell_type": "code",
   "execution_count": 88,
   "id": "691ee6c3-d71a-4a53-9317-bc4c4f819ee8",
   "metadata": {},
   "outputs": [],
   "source": [
    "#dataloaders with resampling (run to perform reweighting)\n",
    "dataloaders = load_data(train_csv_path, train_imp_path, dev_csv_path, dev_imp_path,\n",
    "                        batch_size = batch_size, train_weights=samples_weight)"
   ]
  },
  {
   "cell_type": "code",
   "execution_count": 13,
   "id": "19c4cb26-cf9a-413a-97cf-960f88b43d6a",
   "metadata": {},
   "outputs": [],
   "source": [
    "## model parameters\n",
    "save_path = out_path\n",
    "dataloaders=dataloaders\n",
    "model = model\n",
    "optimizer = optimizer\n",
    "device = device\n",
    "log_every = 1\n",
    "valid_niter = 20\n",
    "lr = 0.00002\n",
    "log_every = 5\n",
    "num_epochs = 20"
   ]
  },
  {
   "cell_type": "markdown",
   "id": "dd4f5ebc-681d-49bb-b585-c5936c86062b",
   "metadata": {},
   "source": [
    "### Training"
   ]
  },
  {
   "cell_type": "code",
   "execution_count": null,
   "id": "19358203-b2cb-4923-9425-8a469dcf530a",
   "metadata": {},
   "outputs": [],
   "source": [
    "res= train(save_path, dataloaders, weights = np.ones(len(CONDITIONS)), f1_weights= None, model=model, device=device,\n",
    "          optimizer=optimizer, lr=lr, log_every=log_every,\n",
    "          valid_niter=valid_niter, best_metric=0.5, num_epochs = num_epochs)"
   ]
  },
  {
   "cell_type": "markdown",
   "id": "5ff5d6ee-00cc-4a98-baef-9a83e3035e77",
   "metadata": {},
   "source": [
    "### Plotting loss and metrics"
   ]
  },
  {
   "cell_type": "code",
   "execution_count": 15,
   "id": "12711f16-d2e7-4127-ba05-13b599b7383c",
   "metadata": {},
   "outputs": [],
   "source": [
    "loss_hist = res[0]\n",
    "loss_hist_train = res[7]\n",
    "acc_values = res[2]\n",
    "F1_values = res[4]\n",
    "acc_values_train = res[3]\n",
    "F1_values_train = res[5]\n",
    "loss_hist_batch_level = res[6]"
   ]
  },
  {
   "cell_type": "code",
   "execution_count": 17,
   "id": "43b7292d-19de-463d-949b-e23833e5aaab",
   "metadata": {},
   "outputs": [],
   "source": [
    "def plot_figures(F1_values,acc_values,loss_hist, title):\n",
    "    plt.plot([i for i in range(len(loss_hist))], loss_hist)\n",
    "    plt.xlabel(\"iterations\")\n",
    "    plt.ylabel(\"loss\")\n",
    "    plt.title(title)\n",
    "    plt.show()\n",
    "    for key, data_list in acc_values.items():\n",
    "        plt.plot([i for i in range(len(data_list))], data_list, label=key)\n",
    "    plt.legend()\n",
    "    plt.xlabel(\"iteration\")\n",
    "    plt.ylabel(\"Accuracy\")\n",
    "    plt.title(title)\n",
    "    plt.show()\n",
    "    for key, data_list in F1_values.items():\n",
    "        plt.plot([i for i in range(len(data_list))], data_list, label=key)\n",
    "    plt.legend()\n",
    "    plt.xlabel(\"iteration\")\n",
    "    plt.ylabel(\"F1\")\n",
    "    plt.title(title)\n",
    "    plt.show()"
   ]
  },
  {
   "cell_type": "code",
   "execution_count": null,
   "id": "c3dafdf2-0da4-440f-8dbb-cf4f0b5533e2",
   "metadata": {},
   "outputs": [],
   "source": [
    "plot_figures(F1_values,acc_values,loss_hist, \"Dev\")"
   ]
  },
  {
   "cell_type": "code",
   "execution_count": null,
   "id": "eae53e10-128d-46fe-aef1-756b13c01dc1",
   "metadata": {},
   "outputs": [],
   "source": [
    "plot_figures(F1_values_train,acc_values_train,loss_hist_train, \"Train\")"
   ]
  },
  {
   "cell_type": "code",
   "execution_count": null,
   "id": "de210220-fb22-4950-b8a2-c015409fdebf",
   "metadata": {},
   "outputs": [],
   "source": [
    "plt.plot([i for i in range(len(loss_hist_batch_level))], loss_hist_batch_level)\n",
    "plt.xlabel(\"iterations\")\n",
    "plt.ylabel(\"loss\")\n",
    "plt.title(\"Loss values at batch level\")\n",
    "plt.show()"
   ]
  },
  {
   "cell_type": "markdown",
   "id": "001ab22d-a617-490c-851e-7e2fa90a4259",
   "metadata": {},
   "source": [
    "## Evaluation on test set"
   ]
  },
  {
   "cell_type": "code",
   "execution_count": 12,
   "id": "3112b8a0-6d2f-4de2-86f7-b800f9489039",
   "metadata": {},
   "outputs": [],
   "source": [
    "test_csv_path = #path to test set\n",
    "test_list_path = #path to test set imps\n",
    "batch_size = 10"
   ]
  },
  {
   "cell_type": "code",
   "execution_count": null,
   "id": "83e0cd76-8720-40eb-aaf5-2f9d3d45fd3b",
   "metadata": {},
   "outputs": [],
   "source": [
    "model, optimizer, device = model_from_ckpt(bert_labeler(p=0), None)\n",
    "checkpoint_path= #path to checkpoint of the model you wish to evaluate\n",
    "test_ld=load_test_data(test_csv_path, test_list_path, batch_size=batch_size, \n",
    "                   num_workers=NUM_WORKERS, shuffle=False)\n",
    "test(model, checkpoint_path, test_ld, None)"
   ]
  }
 ],
 "metadata": {
  "kernelspec": {
   "display_name": "Python 3 (ipykernel)",
   "language": "python",
   "name": "python3"
  },
  "language_info": {
   "codemirror_mode": {
    "name": "ipython",
    "version": 3
   },
   "file_extension": ".py",
   "mimetype": "text/x-python",
   "name": "python",
   "nbconvert_exporter": "python",
   "pygments_lexer": "ipython3",
   "version": "3.9.7"
  }
 },
 "nbformat": 4,
 "nbformat_minor": 5
}
