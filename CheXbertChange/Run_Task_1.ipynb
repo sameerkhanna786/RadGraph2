{
 "cells": [
  {
   "cell_type": "code",
   "execution_count": null,
   "id": "b2a3bb8f",
   "metadata": {},
   "outputs": [],
   "source": [
    "import os\n",
    "import sys\n",
    "module_path = os.path.abspath(os.path.join('..'))\n",
    "if module_path not in sys.path:\n",
    "    sys.path.append(module_path)\n",
    "    \n",
    "sys.path.append(\"CheXbert_Task_1/src\")\n",
    "\n",
    "import CheXbert_Task_1\n",
    "import CheXbert_Task_1.src\n",
    "import CheXbert_Task_1.src.models.bert_labeler\n",
    "import CheXbert_Task_1.src.models as models\n",
    "from CheXbert_Task_1.src import *\n",
    "import tqdm as notebook_tqdm\n",
    "\n",
    "from CheXbert_Task_1.src.utils import weighted_avg\n",
    "from CheXbert_Task_1.src.run_bert import *\n",
    "from CheXbert_Task_1.src.run_bert import model_from_ckpt\n",
    "import matplotlib.pyplot as plt\n",
    "from CheXbert_Task_1.src.utils import test"
   ]
  },
  {
   "cell_type": "markdown",
   "id": "43085d12",
   "metadata": {},
   "source": [
    "### Variables"
   ]
  },
  {
   "cell_type": "code",
   "execution_count": null,
   "id": "460c38e8",
   "metadata": {},
   "outputs": [],
   "source": [
    "train_csv_path = #path to train set\n",
    "dev_csv_path = #path to dev set\n",
    "train_imp_path = #path to train impressions\n",
    "dev_imp_path = #path to dev impressions\n",
    "out_path = #path to where you want the model to be saved\n",
    "checkpoint_path = #specify checkpoint path if desired"
   ]
  },
  {
   "cell_type": "code",
   "execution_count": null,
   "id": "44ebc4df",
   "metadata": {},
   "outputs": [],
   "source": [
    "#run if you don't want pre trained weights\n",
    "checkpoint_path = None"
   ]
  },
  {
   "cell_type": "code",
   "execution_count": null,
   "id": "0a43ad31",
   "metadata": {},
   "outputs": [],
   "source": [
    "model, optimizer, device = model_from_ckpt(bert_labeler(p=0.1), checkpoint_path)\n",
    "optimizer = None\n",
    "dataloaders = load_data(train_csv_path, train_imp_path, dev_csv_path, dev_imp_path)"
   ]
  },
  {
   "cell_type": "markdown",
   "id": "89fa3c8e",
   "metadata": {},
   "source": [
    "### Training"
   ]
  },
  {
   "cell_type": "code",
   "execution_count": null,
   "id": "ae056f29",
   "metadata": {},
   "outputs": [],
   "source": [
    "res = train(save_path=out_path,\n",
    "    dataloaders=dataloaders,\n",
    "    model=model,\n",
    "    optimizer=optimizer,\n",
    "    device=device, \n",
    "    f1_weights=None, \n",
    "    log_every = 1,\n",
    "    valid_niter=12)"
   ]
  },
  {
   "cell_type": "markdown",
   "id": "d4313e2f",
   "metadata": {},
   "source": [
    "### Plot Loss and Metrics for Train & Dev Set"
   ]
  },
  {
   "cell_type": "code",
   "execution_count": null,
   "id": "1c7e1e6e",
   "metadata": {},
   "outputs": [],
   "source": [
    "loss_hist_dev = res[0]\n",
    "loss_hist_train = res[7]\n",
    "acc_values_dev = res[2]\n",
    "F1_values_dev = res[4]\n",
    "acc_values_train = res[3]\n",
    "F1_values_train = res[5]\n",
    "loss_hist_batch_level = res[6]"
   ]
  },
  {
   "cell_type": "code",
   "execution_count": null,
   "id": "0b660d9a",
   "metadata": {},
   "outputs": [],
   "source": [
    "plt.plot([i for i in range(len(loss_hist_dev))], loss_hist_dev, label='Dev Set')\n",
    "plt.plot([i for i in range(len(loss_hist_train))], loss_hist_train, label='Train Set')\n",
    "plt.legend(loc='best')\n",
    "plt.xlabel(\"iterations\")\n",
    "plt.ylabel(\"loss\")"
   ]
  },
  {
   "cell_type": "code",
   "execution_count": null,
   "id": "f8b97f41",
   "metadata": {},
   "outputs": [],
   "source": [
    "for key, data_list in acc_values_dev.items():\n",
    "    plt.plot([i for i in range(len(data_list))], data_list, label=key + ' dev')\n",
    "for key, data_list in acc_values_train.items():\n",
    "    plt.plot([i for i in range(len(data_list))], data_list, label=key + ' train')\n",
    "    \n",
    "plt.legend()\n",
    "plt.xlabel(\"iteration\")\n",
    "plt.ylabel(\"Accuracy\")"
   ]
  },
  {
   "cell_type": "code",
   "execution_count": null,
   "id": "5cbabc6b",
   "metadata": {},
   "outputs": [],
   "source": [
    "for key, data_list in F1_values_dev.items():\n",
    "    plt.plot([i for i in range(len(data_list))], data_list, label=key + ' dev')\n",
    "for key, data_list in F1_values_train.items():\n",
    "    plt.plot([i for i in range(len(data_list))], data_list, label=key + ' train')\n",
    "plt.legend()\n",
    "plt.xlabel(\"iteration\")\n",
    "plt.ylabel(\"F1\")"
   ]
  },
  {
   "cell_type": "code",
   "execution_count": null,
   "id": "ccd6b851",
   "metadata": {},
   "outputs": [],
   "source": [
    "plt.plot([i for i in range(len(loss_hist_batch_level))], loss_hist_batch_level)\n",
    "plt.xlabel(\"iterations\")\n",
    "plt.ylabel(\"loss\")\n",
    "plt.title(\"Loss values at batch level\")\n",
    "plt.show()"
   ]
  },
  {
   "cell_type": "markdown",
   "id": "219c2fa4",
   "metadata": {},
   "source": [
    "### Evaluation of Test Set"
   ]
  },
  {
   "cell_type": "code",
   "execution_count": null,
   "id": "64be026b",
   "metadata": {},
   "outputs": [],
   "source": [
    "test_csv_path = #path to test set\n",
    "test_list_path = #path to test set imps\n",
    "batch_size = 13"
   ]
  },
  {
   "cell_type": "code",
   "execution_count": null,
   "id": "d17f10fc",
   "metadata": {},
   "outputs": [],
   "source": [
    "model, optimizer, device = model_from_ckpt(bert_labeler(p=0.1), None)\n",
    "checkpoint_path= #path to checkpoint of the model you wish to evaluate\n",
    "test_ld=load_test_data(test_csv_path, test_list_path, batch_size=BATCH_SIZE, \n",
    "                   num_workers=NUM_WORKERS, shuffle=False)\n",
    "test(model, checkpoint_path, test_ld, None)"
   ]
  }
 ],
 "metadata": {
  "kernelspec": {
   "display_name": "Python 3 (ipykernel)",
   "language": "python",
   "name": "python3"
  },
  "language_info": {
   "codemirror_mode": {
    "name": "ipython",
    "version": 3
   },
   "file_extension": ".py",
   "mimetype": "text/x-python",
   "name": "python",
   "nbconvert_exporter": "python",
   "pygments_lexer": "ipython3",
   "version": "3.9.7"
  }
 },
 "nbformat": 4,
 "nbformat_minor": 5
}
